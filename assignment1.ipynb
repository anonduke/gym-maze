{
  "cells": [
    {
      "cell_type": "markdown",
      "metadata": {},
      "source": [
        "# CSCN8020 Assignment 1\n",
        "## Reinforcement Learning Programming - CSCN 8020\n",
        "\n",
        "Submitted by: Fasalu Rahman Kottaparambu \n",
        "\n",
        "Reg: 8991782"
      ]
    },
    {
      "cell_type": "markdown",
      "metadata": {},
      "source": [
        "## Problem 1\n",
        "Pick-and-Place Robot: Consider using reinforcement learning to control the motion of a robot arm in a repetitive pick-and-place task. If we want to learn movements that are fast and smooth, the learning agent will have to control the motors directly and obtain feedback about the current positions and velocities of the mechanical linkages.\n",
        "Design the reinforcement learning problem as an MDP, define states, actions, rewards with reasoning."
      ]
    },
    {
      "cell_type": "markdown",
      "metadata": {},
      "source": [
        "### MDP Design\n",
        "The pick-and-place task can be formulated as a Markov Decision Process (MDP) to enable the agent to learn optimal control policies for fast and smooth movements.\n",
        "\n",
        "- **States (S)**: The “state” is just a way to describe the robot arm’s current situation. To fully know what the arm is doing, we need to look at two things for every joint: its angle (position) and its speed (velocity). So, if the robot arm has n joints, the state is basically a list of all the joint positions and speeds: [θ₁, θ₂, …, θₙ, ω₁, ω₂, …, ωₙ].\n",
        "\n",
        "We can also include extra details, like where the object to pick up is, or where the arm’s end tip (end-effector) is compared to the pick-and-place spots.\n",
        "\n",
        "Reasoning: The state must have enough information so that, if we know the current state and the action taken, we can predict what will happen next. This is called the Markov property. Positions and speeds matter because the robot’s movement depends on how forces create acceleration — meaning momentum and smooth motion need both position and velocity. Sensors give this information in real-time, so the robot can react properly.\n",
        "\n",
        "- **Actions (A)**: Actions are the direct control signals applied to the motors, such as torques or voltage levels for each joint motor. For an *n*-joint arm, actions can be a continuous vector *a = [τ₁, τ₂, ..., τₙ]*, where *τ_i* is the torque applied to joint *i*. If discretized for simplicity, actions could be binned torque levels (e.g., low, medium, high for each joint).\n",
        "  **Reasoning**: Since the robot is controlled at the motor level, the actions should directly affect how joints accelerate. Using continuous values gives very smooth and precise control, which is ideal for real robots. But sometimes we simplify to discrete levels to make the learning process easier for the computer.\n",
        "\n",
        "- **Rewards (R)**: ARewards tell the robot how well it is doing the task. In this case, the robot is rewarded for completing pick-and-place tasks quickly and smoothly. Example reward setup:\n",
        "\n",
        "+100 if it successfully picks up and places the object.\n",
        "\n",
        "-1 for every time step taken, to make it finish faster.\n",
        "\n",
        "A negative penalty if the robot makes sudden, jerky joint movements (based on changes in velocity).\n",
        "\n",
        "-10 if the robot crashes into something or fails to pick/place the object.\n",
        "\n",
        "  **Reasoning**: The big positive reward motivates the robot to complete the task. The step penalty pushes it to be efficient. The smoothness penalty prevents clumsy, energy-wasting movements. Collision penalties keep the robot safe. Together, these encourage the robot to learn smooth, safe, and fast actions.\n",
        "\n",
        "- **Transitions (P)**: Transitions describe how the robot moves from one state to another after an action. In simple terms: new state = current state + effect of the action (with some added noise or randomness). For example, applying torque changes positions and velocities based on physics. In real-world robotics, randomness (like slight slips or sensor errors) makes transitions uncertain, so we treat them as partly stochastic (not perfectly predictable).\n",
        "\n",
        "  **Reasoning**: Adding this randomness creates more realistic training since real robots don’t behave like perfect simulations.\n",
        "\n",
        "- **Discount Factor (γ)**: The discount factor is set to 0.99. This means the robot values future rewards almost as much as immediate ones. Since pick-and-place tasks may take many steps, giving importance to long-term rewards helps the robot finish the whole task instead of just chasing short-term gains."
      ]
    },
    {
      "cell_type": "markdown",
      "metadata": {},
      "source": [
        "## Problem 2\n",
        "2x2 Gridworld: Consider a 2x2 gridworld with the following characteristics:\n",
        "• State Space (S): s1, s2, s3, s4.\n",
        "• Action Space (A): up, down, left, right.\n",
        "• Initial Policy (π): For all states, π(up|s) = 1.\n",
        "• Transition Probabilities P(s′|s, a):\n",
        "– If the action is valid (does not run into a wall), the transition is deterministic.\n",
        "– Otherwise, s′ = s.\n",
        "• Rewards R(s):\n",
        "– R(s1) = 5 for all actions a.\n",
        "– R(s2) = 10 for all actions a.\n",
        "– R(s3) = 1 for all actions a.\n",
        "– R(s4) = 2 for all actions a.\n",
        "Assume the grid layout is:\n",
        "| s1 (R=5) | s2 (R=10) |\n",
        "| s3 (R=1) | s4 (R=2) |\n",
        "Assume γ = 0.9. Rewards are r = R(s), received based on current state."
      ]
    },
    {
      "cell_type": "markdown",
      "metadata": {},
      "source": [
        "### Tasks\n",
        "Perform two iterations of Value Iteration for this gridworld environment. Show the step-by-step process (without code) including policy evaluation and policy improvement."
      ]
    },
    {
      "cell_type": "markdown",
      "metadata": {},
      "source": [
        "#### Iteration 1:\n",
        "1. Initial value function (V) for each state:\n",
        "   V(s1) = 0, V(s2) = 0, V(s3) = 0, V(s4) = 0\n",
        "2. Value function updates:\n",
        "   For s1: 5 + 0.9 * max(0,0,0,0) = 5\n",
        "   For s2: 10 + 0.9 * max(0,0,0,0) = 10\n",
        "   For s3: 1 + 0.9 * max(0,0,0,0) = 1\n",
        "   For s4: 2 + 0.9 * max(0,0,0,0) = 2\n",
        "3. Updated value function:\n",
        "   V(s1) = 5, V(s2) = 10, V(s3) = 1, V(s4) = 2\n",
        "Policy improvement: greedy w.r.t. V\n",
        "- s1: right (to s2, V=10)\n",
        "- s2: up or right (stay, V=10)\n",
        "- s3: up (to s1, V=5)\n",
        "- s4: up (to s2, V=10)"
      ]
    },
    {
      "cell_type": "markdown",
      "metadata": {},
      "source": [
        "#### Iteration 2:\n",
        "Value function after the second iteration:\n",
        "V(s1) = 5 + 0.9 * 10 = 14\n",
        "V(s2) = 10 + 0.9 * 10 = 19\n",
        "V(s3) = 1 + 0.9 * 5 = 5.5\n",
        "V(s4) = 2 + 0.9 * 10 = 11\n",
        "Policy improvement: greedy\n",
        "- s1: right (10)\n",
        "- s2: up or right (10)\n",
        "- s3: up (5)\n",
        "- s4: up (10)"
      ]
    },
    {
      "cell_type": "markdown",
      "metadata": {},
      "source": [
        "## Problem 3 \n",
        "5x5 Gridworld: MDP based on a 5x5 gridworld. Implement Value Iteration to estimate V* and π*.\n",
        "• States: row, column (0,0 top-left to 4,4 bottom-right)\n",
        "• Terminal/Goal: s4,4\n",
        "• Grey states: s2,2, s3,0, s0,4\n",
        "• Actions: right, down, left, up\n",
        "• Transitions: deterministic if valid, else stay\n",
        "• Rewards: +10 at goal, -5 at grey, -1 otherwise (received on entering s')"
      ]
    },
    {
      "cell_type": "markdown",
      "metadata": {},
      "source": [
        "### Task 1: Update MDP Code"
      ]
    },
    {
      "cell_type": "code",
      "execution_count": 2,
      "metadata": {},
      "outputs": [
        {
          "name": "stdout",
          "output_type": "stream",
          "text": [
            "Optimal Value Function (V*):\n",
            "[[-0.4341  0.6288  1.8098  3.122   4.58  ]\n",
            " [ 0.6288  1.8098  3.122   4.58    6.2   ]\n",
            " [ 1.8098  3.122   4.58    6.2     8.    ]\n",
            " [ 3.122   4.58    6.2     8.     10.    ]\n",
            " [ 4.58    6.2     8.     10.      0.    ]]\n",
            "Iterations: 9\n",
            "Time: 0.0010 seconds\n"
          ]
        }
      ],
      "source": [
        "import numpy as np\n",
        "import matplotlib.pyplot as plt\n",
        "import time\n",
        "\n",
        "gamma = 0.9  # Discount factor\n",
        "threshold = 1e-4  # Convergence threshold\n",
        "rows = 5\n",
        "cols = 5\n",
        "goal = (4, 4)  # Terminal goal state\n",
        "grey = [(2, 2), (3, 0), (0, 4)]  # Grey states list\n",
        "actions = [(0, 1), (1, 0), (0, -1), (-1, 0)]  # right, down, left, up\n",
        "# Function to get next state\n",
        "def get_next_state(i, j, a):\n",
        "    di, dj = actions[a]\n",
        "    ni = i + di\n",
        "    nj = j + dj\n",
        "    if 0 <= ni < rows and 0 <= nj < cols:\n",
        "        return ni, nj\n",
        "    return i, j  # Stay if invalid\n",
        "# Reward function based on next state (updated to check terminal, grey, regular)\n",
        "def get_reward(ni, nj):\n",
        "    if (ni, nj) == goal:\n",
        "        return 10\n",
        "    if (ni, nj) in grey:\n",
        "        return -5\n",
        "    return -1\n",
        "# Standard Value Iteration (synchronous)\n",
        "V = np.zeros((rows, cols))  # Initialize value function\n",
        "iteration = 0\n",
        "start_time = time.time()\n",
        "while True:\n",
        "    delta = 0\n",
        "    new_V = V.copy()  # Copy for synchronous update\n",
        "    for i in range(rows):\n",
        "        for j in range(cols):\n",
        "            if (i, j) == goal:  # Skip terminal\n",
        "                continue\n",
        "            max_v = float('-inf')\n",
        "            for a in range(4):  # For each action\n",
        "                ni, nj = get_next_state(i, j, a)\n",
        "                r = get_reward(ni, nj)  # Reward based on next state\n",
        "                v = r + gamma * V[ni, nj]  # Bellman\n",
        "                if v > max_v:\n",
        "                    max_v = v\n",
        "            new_V[i, j] = max_v\n",
        "            delta = max(delta, abs(V[i, j] - new_V[i, j]))\n",
        "    V = new_V\n",
        "    iteration += 1\n",
        "    if delta < threshold:\n",
        "        break\n",
        "end_time = time.time()\n",
        "print('Optimal Value Function (V*):')\n",
        "print(np.round(V, 4))\n",
        "print(f'Iterations: {iteration}')\n",
        "print(f'Time: {end_time - start_time:.4f} seconds')"
      ]
    },
    {
      "cell_type": "markdown",
      "metadata": {},
      "source": [
        "Optimal V* (table):\n",
        "| Row/Col | 0      | 1      | 2      | 3      | 4     |\n",
        "|---------|--------|--------|--------|--------|-------|\n",
        "| 0      | -0.4341| 0.6288 | 1.8098 | 3.122  | 4.58  |\n",
        "| 1      | 0.6288 | 1.8098 | 3.122  | 4.58   | 6.2   |\n",
        "| 2      | 1.8098 | 3.122  | 4.58   | 6.2    | 8.0   |\n",
        "| 3      | 3.122  | 4.58   | 6.2    | 8.0    | 10.0  |\n",
        "| 4      | 4.58   | 6.2    | 8.0    | 10.0   | 0.0   |"
      ]
    },
    {
      "cell_type": "code",
      "execution_count": 3,
      "metadata": {},
      "outputs": [
        {
          "name": "stdout",
          "output_type": "stream",
          "text": [
            "Optimal Policy (π*):\n",
            "> > > v v \n",
            "> > > > v \n",
            "> v > > v \n",
            "> > > > v \n",
            "> > > > G \n"
          ]
        }
      ],
      "source": [
        "# Compute optimal policy\n",
        "policy = np.zeros((rows, cols), dtype=int)\n",
        "for i in range(rows):\n",
        "    for j in range(cols):\n",
        "        if (i, j) == goal:\n",
        "            continue\n",
        "        max_v = float('-inf')\n",
        "        best_a = 0\n",
        "        for a in range(4):\n",
        "            ni, nj = get_next_state(i, j, a)\n",
        "            r = get_reward(ni, nj)\n",
        "            v = r + gamma * V[ni, nj]\n",
        "            if v > max_v:\n",
        "                max_v = v\n",
        "                best_a = a\n",
        "        policy[i, j] = best_a\n",
        "action_symbols = ['>', 'v', '<', '^']\n",
        "print('Optimal Policy (π*):')\n",
        "for i in range(rows):\n",
        "    for j in range(cols):\n",
        "        if (i, j) == goal:\n",
        "            print('G', end=' ')\n",
        "        else:\n",
        "            print(action_symbols[policy[i, j]], end=' ')\n",
        "    print()"
      ]
    },
    {
      "cell_type": "markdown",
      "metadata": {},
      "source": [
        "Optimal π* (table, > right, v down, < left, ^ up, G goal):\n",
        "| Row/Col | 0 | 1 | 2 | 3 | 4 |\n",
        "|---------|---|---|---|---|---|\n",
        "| 0      | > | > | > | v | v |\n",
        "| 1      | > | > | > | > | v |\n",
        "| 2      | > | v | > | > | v |\n",
        "| 3      | > | > | > | > | v |\n",
        "| 4      | > | > | > | > | G |"
      ]
    },
    {
      "cell_type": "code",
      "execution_count": 4,
      "metadata": {},
      "outputs": [
        {
          "data": {
            "image/png": "[encoded data removed]",
            "text/plain": [
              "<Figure size 800x600 with 2 Axes>"
            ]
          },
          "metadata": {},
          "output_type": "display_data"
        }
      ],
      "source": [
        "# Visualization: Value Function Heatmap and Policy Arrows\n",
        "fig, ax = plt.subplots(figsize=(8, 6))\n",
        "im = ax.imshow(V, cmap='viridis')\n",
        "cbar = ax.figure.colorbar(im, ax=ax)\n",
        "cbar.ax.set_ylabel('Value', rotation=-90, va='bottom')\n",
        "for i in range(rows):\n",
        "    for j in range(cols):\n",
        "        if (i, j) == goal:\n",
        "            ax.text(j, i, 'G', va='center', ha='center', color='white', fontsize=12)\n",
        "        elif (i, j) in grey:\n",
        "            ax.text(j, i, f'{V[i,j]:.1f}X', va='center', ha='center', color='white', fontsize=10)\n",
        "        else:\n",
        "            ax.text(j, i, f'{V[i,j]:.1f}', va='center', ha='center', color='black', fontsize=10)\n",
        "        if (i, j) != goal:\n",
        "            a = policy[i, j]\n",
        "            di, dj = actions[a]\n",
        "            ax.arrow(j, i, dj * 0.3, di * 0.3, head_width=0.1, head_length=0.1, fc='red', ec='red')\n",
        "ax.set_title('5x5 Gridworld: Optimal Value Function and Policy')\n",
        "ax.set_xticks(np.arange(cols))\n",
        "ax.set_yticks(np.arange(rows))\n",
        "ax.grid(which='major', color='black', linestyle='-', linewidth=1)\n",
        "plt.show()"
      ]
    },
    {
      "cell_type": "markdown",
      "metadata": {},
      "source": [
        "### Task 2: Value Iteration Variations"
      ]
    },
    {
      "cell_type": "code",
      "execution_count": 5,
      "metadata": {},
      "outputs": [
        {
          "name": "stdout",
          "output_type": "stream",
          "text": [
            "In-Place Value Function (V*):\n",
            "[[-0.4341  0.6288  1.8098  3.122   4.58  ]\n",
            " [ 0.6288  1.8098  3.122   4.58    6.2   ]\n",
            " [ 1.8098  3.122   4.58    6.2     8.    ]\n",
            " [ 3.122   4.58    6.2     8.     10.    ]\n",
            " [ 4.58    6.2     8.     10.      0.    ]]\n",
            "Iterations: 9\n",
            "Time: 0.0010 seconds\n"
          ]
        }
      ],
      "source": [
        "# In-Place Value Iteration\n",
        "V_inplace = np.zeros((rows, cols))\n",
        "iteration_inplace = 0\n",
        "start_time_inplace = time.time()\n",
        "while True:\n",
        "    delta = 0\n",
        "    for i in range(rows):\n",
        "        for j in range(cols):\n",
        "            if (i, j) == goal:\n",
        "                continue\n",
        "            old_v = V_inplace[i, j]\n",
        "            max_v = float('-inf')\n",
        "            for a in range(4):\n",
        "                ni, nj = get_next_state(i, j, a)\n",
        "                r = get_reward(ni, nj)\n",
        "                v = r + gamma * V_inplace[ni, nj]\n",
        "                if v > max_v:\n",
        "                    max_v = v\n",
        "            V_inplace[i, j] = max_v\n",
        "            delta = max(delta, abs(old_v - max_v))\n",
        "    iteration_inplace += 1\n",
        "    if delta < threshold:\n",
        "        break\n",
        "end_time_inplace = time.time()\n",
        "print('In-Place Value Function (V*):')\n",
        "print(np.round(V_inplace, 4))\n",
        "print(f'Iterations: {iteration_inplace}')\n",
        "print(f'Time: {end_time_inplace - start_time_inplace:.4f} seconds')"
      ]
    },
    {
      "cell_type": "markdown",
      "metadata": {},
      "source": [
        "#### Comparison\n",
        "- Optimization time: Standard ~0.0011s, In-place ~0.0010s (similar for small grid).\n",
        "- Number of episodes: Not applicable (iterations used). Both converged in 9 iterations.\n",
        "- Computational complexity: Both O(k * |S| * |A|), with k=9, |S|=25, |A|=4. In-place saves memory (no copy) and may converge faster in larger grids due to immediate updates, but identical here."
      ]
    },
    {
      "cell_type": "markdown",
      "metadata": {},
      "source": [
        "## Problem 4 [35]\n",
        "Off-policy Monte Carlo with Importance Sampling on 5x5 gridworld. Use random behavior policy, greedy target policy."
      ]
    },
    {
      "cell_type": "code",
      "execution_count": 6,
      "metadata": {},
      "outputs": [
        {
          "name": "stdout",
          "output_type": "stream",
          "text": [
            "Estimated Value Function (MC):\n",
            "[[-0.5634  0.5563  1.6736  3.0126  4.4832]\n",
            " [ 0.5542  1.7285  3.0393  4.4777  6.1213]\n",
            " [ 1.7175  3.0364  4.4979  6.1188  7.9497]\n",
            " [ 3.0089  4.4862  6.1308  7.9502 10.    ]\n",
            " [ 4.4643  6.1212  7.9523 10.      0.    ]]\n",
            "Episodes: 50000\n",
            "Time: 6.0344 seconds\n"
          ]
        }
      ],
      "source": [
        "# Off-policy MC with Importance Sampling\n",
        "def generate_episode():\n",
        "    i = np.random.randint(0, rows)\n",
        "    j = np.random.randint(0, cols)\n",
        "    episode = []\n",
        "    max_steps = 100\n",
        "    steps = 0\n",
        "    done = False\n",
        "    while not done and steps < max_steps:\n",
        "        a = np.random.randint(0, 4)  # Random behavior\n",
        "        ni, nj = get_next_state(i, j, a)\n",
        "        r = get_reward(ni, nj)\n",
        "        episode.append(((i, j), a, r))\n",
        "        i, j = ni, nj\n",
        "        steps += 1\n",
        "        if (i, j) == goal:\n",
        "            done = True\n",
        "    return episode\n",
        "Q = np.zeros((rows, cols, 4))\n",
        "C = np.zeros((rows, cols, 4))\n",
        "num_episodes = 50000\n",
        "start_time_mc = time.time()\n",
        "for _ in range(num_episodes):\n",
        "    episode = generate_episode()\n",
        "    G = 0.0\n",
        "    W = 1.0\n",
        "    for t in range(len(episode) - 1, -1, -1):\n",
        "        s, a, r = episode[t]\n",
        "        G = r + gamma * G\n",
        "        C[s[0], s[1], a] += W\n",
        "        Q[s[0], s[1], a] += (W / C[s[0], s[1], a]) * (G - Q[s[0], s[1], a])\n",
        "        pi_s = np.argmax(Q[s[0], s[1]])\n",
        "        if a != pi_s:\n",
        "            break\n",
        "        W = W / 0.25  # b(a|s)=0.25\n",
        "V_mc = np.max(Q, axis=2)\n",
        "V_mc[4, 4] = 0  # Set terminal to 0 for consistency\n",
        "end_time_mc = time.time()\n",
        "print('Estimated Value Function (MC):')\n",
        "print(np.round(V_mc, 4))\n",
        "print(f'Episodes: {num_episodes}')\n",
        "print(f'Time: {end_time_mc - start_time_mc:.4f} seconds')"
      ]
    },
    {
      "cell_type": "markdown",
      "metadata": {},
      "source": [
        "#### Comparison with Value Iteration\n",
        "- Optimization time: VI ~0.001s, MC ~9.33s (sampling overhead).\n",
        "- Number of episodes: VI uses 9 iterations (no episodes); MC uses 50k episodes.\n",
        "- Computational complexity: VI O(k * |S| * |A|), exact for small models. MC O(N * T * |A|), with N=50k, T~avg length (~5-10); higher variance. MC is model-free, better for large/unknown envs, but variance causes slight differences in V. VI is faster and exact; MC approximates but handles stochasticity."
      ]
    }
  ],
  "metadata": {
    "kernelspec": {
      "display_name": ".venv",
      "language": "python",
      "name": "python3"
    },
    "language_info": {
      "codemirror_mode": {
        "name": "ipython",
        "version": 3
      },
      "file_extension": ".py",
      "mimetype": "text/x-python",
      "name": "python",
      "nbconvert_exporter": "python",
      "pygments_lexer": "ipython3",
      "version": "3.10.11"
    }
  },
  "nbformat": 4,
  "nbformat_minor": 0
}
